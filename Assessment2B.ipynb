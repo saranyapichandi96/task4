{
  "cells": [
    {
      "cell_type": "markdown",
      "metadata": {
        "id": "view-in-github",
        "colab_type": "text"
      },
      "source": [
        "<a href=\"https://colab.research.google.com/github/saranyapichandi96/task4/blob/main/Assessment2B.ipynb\" target=\"_parent\"><img src=\"https://colab.research.google.com/assets/colab-badge.svg\" alt=\"Open In Colab\"/></a>"
      ]
    },
    {
      "cell_type": "markdown",
      "metadata": {
        "id": "ONXHbwHTxJ2E"
      },
      "source": [
        "###### Assessment"
      ]
    },
    {
      "cell_type": "markdown",
      "metadata": {
        "id": "c-sWto9mxJ2P"
      },
      "source": [
        "###### I am going to provide two .csv files , you are supposed to work on them and have to provide solutions to the following problems"
      ]
    },
    {
      "cell_type": "markdown",
      "metadata": {
        "id": "1pwl0KoYxJ2Q"
      },
      "source": [
        "###### import necessary libraries"
      ]
    },
    {
      "cell_type": "code",
      "execution_count": null,
      "metadata": {
        "id": "cy0A2ZhhxJ2S"
      },
      "outputs": [],
      "source": [
        "import pandas as pd\n",
        "import numpy as np\n",
        "import matplotlib.pyplot as plt"
      ]
    },
    {
      "cell_type": "markdown",
      "metadata": {
        "id": "X6ZSbCpPxJ2U"
      },
      "source": [
        "###### merge those two csv files (after getting as dataframes, get them as a single dataframe)"
      ]
    },
    {
      "cell_type": "code",
      "execution_count": null,
      "metadata": {
        "id": "q78bTY0CxJ2V"
      },
      "outputs": [],
      "source": [
        "df1=pd.read_csv(\"college_1.csv\")\n",
        "df2=pd.read_csv(\"college_2.csv\")\n",
        "df=pd.concat([df1,df2],join='inner',axis=0)\n",
        "print(df)"
      ]
    },
    {
      "cell_type": "markdown",
      "metadata": {
        "id": "09AcrymlxJ2X"
      },
      "source": [
        "###### Take each csv file , split that csv file into multiple categories (example csv files are added in the repo) \n"
      ]
    },
    {
      "cell_type": "markdown",
      "metadata": {
        "id": "6aeeRwx-xJ2a"
      },
      "source": [
        "###### consider if the codekata score exceeds 15000 points(present week) then make a csv on those observations as Exceeded expectations.csv\n"
      ]
    },
    {
      "cell_type": "markdown",
      "metadata": {
        "id": "zWhzHAOoxJ2c"
      },
      "source": [
        "###### if  10000<codekata score<15000   (Reached_expectations.csv)\n",
        "\n"
      ]
    },
    {
      "cell_type": "markdown",
      "metadata": {
        "id": "oV5RYMzrxJ2d"
      },
      "source": [
        "###### if  7000<codekata score<10000   (Needs_Improvement.csv)\n"
      ]
    },
    {
      "cell_type": "markdown",
      "metadata": {
        "id": "9vrXNm5NxJ2f"
      },
      "source": [
        "###### if  codekate score < 7000        (Unsatisfactory.csv)"
      ]
    },
    {
      "cell_type": "code",
      "execution_count": null,
      "metadata": {
        "id": "uLArLAI0xJ2h"
      },
      "outputs": [],
      "source": [
        "#consider if the codekata score exceeds 15000 points(present week) then make a csv on those observations as Exceeded expectations.csv\n",
        "df_new = df[df['CodeKata Score'] < 15000] \n",
        "print(df_new)\n",
        "df_new.to_csv('Exceeded expectations.csv', index=False)\n",
        "print(pd.read_csv(\"Exceeded expectations.csv\"))"
      ]
    },
    {
      "cell_type": "code",
      "execution_count": null,
      "metadata": {
        "id": "Vfac9PRgxJ2j"
      },
      "outputs": [],
      "source": [
        "#if 10000<codekata score<15000 (Reached_expectations.csv)\n",
        "df_new = df[(df['CodeKata Score'] < 15000) & (df['CodeKata Score'] > 10000)]\n",
        "print(df_new)\n",
        "df_new.to_csv('Reached_expectations.csv', index=False)\n",
        "print(pd.read_csv(\"Reached_expectations.csv\"))\n"
      ]
    },
    {
      "cell_type": "code",
      "source": [
        "#if 7000<codekata score<10000 (Needs_Improvement.csv)\n",
        "df_new = df[(df['CodeKata Score'] < 10000) & (df['CodeKata Score'] > 7000)]\n",
        "print(df_new)\n",
        "df_new.to_csv('Needs_Improvement.csv', index=False)\n",
        "print(pd.read_csv(\"Needs_Improvement.csv\"))\n"
      ],
      "metadata": {
        "id": "21t1QxTl-9M4"
      },
      "execution_count": null,
      "outputs": []
    },
    {
      "cell_type": "code",
      "source": [
        "#if codekate score < 7000 (Unsatisfactory.csv)\n",
        "df_new = df[df['CodeKata Score'] < 7000] \n",
        "print(df_new)\n",
        "df_new.to_csv('Unsatisfactory.csv', index=False)\n",
        "print(pd.read_csv(\"Unsatisfactory.csv\"))"
      ],
      "metadata": {
        "id": "l6Ldy8JC94In"
      },
      "execution_count": null,
      "outputs": []
    },
    {
      "cell_type": "markdown",
      "metadata": {
        "id": "Ycrfn6U1xJ2j"
      },
      "source": [
        "###### Average of previous week geekions vs this week geekions (i.e Previous Geekions vs CodeKata Score)"
      ]
    },
    {
      "cell_type": "code",
      "execution_count": null,
      "metadata": {
        "id": "RgfEKTtTxJ2k"
      },
      "outputs": [],
      "source": [
        "col = df.loc[: , \"Previous Geekions\":\"CodeKata Score\"]\n",
        "df['mean of pre_greek&codekata'] = col.mean(axis=1)\n",
        "print(df)\n"
      ]
    },
    {
      "cell_type": "markdown",
      "metadata": {
        "id": "qgaFM11HxJ2l"
      },
      "source": [
        "###### No of students participated "
      ]
    },
    {
      "cell_type": "code",
      "execution_count": null,
      "metadata": {
        "id": "Zh-EzpXTxJ2m"
      },
      "outputs": [],
      "source": [
        "no.of.student = len(df.axes[0])\n",
        "print(\"Number of students: \", no.of.student)"
      ]
    },
    {
      "cell_type": "markdown",
      "metadata": {
        "id": "M10Xf-wfxJ2n"
      },
      "source": [
        "###### #Average completion of python course or my_sql or python english or computational thinking"
      ]
    },
    {
      "cell_type": "code",
      "execution_count": null,
      "metadata": {
        "id": "WD7a8c02xJ2n"
      },
      "outputs": [],
      "source": [
        "av_column = df.mean(axis=0)\n",
        "print (av_column)"
      ]
    },
    {
      "cell_type": "markdown",
      "metadata": {
        "id": "8yI0DcFjxJ2o"
      },
      "source": [
        "###### rising star of the week (top 3 candidate who performed well in that particular week)"
      ]
    },
    {
      "cell_type": "code",
      "execution_count": null,
      "metadata": {
        "id": "P6WtcUtXxJ2p"
      },
      "outputs": [],
      "source": [
        "df = pd.concat([df,pd.DataFrame(df.sum(axis=1),columns=['Total'])],axis=1)\n",
        "df4=df.head(3)"
      ]
    },
    {
      "cell_type": "markdown",
      "metadata": {
        "id": "628GhyYSxJ2p"
      },
      "source": [
        "###### Shining stars of the week (top 3 candidates who has highest geekions)"
      ]
    },
    {
      "cell_type": "code",
      "execution_count": null,
      "metadata": {
        "id": "4pQL8y7nxJ2q"
      },
      "outputs": [],
      "source": [
        "df['rank_greekcoins'] = df['Previous Geekions'].rank(ascending = 0)\n",
        "print(df)\n",
        "res=df.head(3)\n",
        "print(\"Shining stars of the week \",res)\n"
      ]
    },
    {
      "cell_type": "markdown",
      "metadata": {
        "id": "eN5X1OMIxJ2q"
      },
      "source": [
        "###### Department wise codekata performence (pie chart)"
      ]
    },
    {
      "cell_type": "code",
      "execution_count": null,
      "metadata": {
        "id": "Tvb05MHdxJ2r"
      },
      "outputs": [],
      "source": [
        "import numpy as np\n",
        "import matplotlib.pyplot as plt\n",
        "df.groupby(['Department']).sum().plot(kind='pie', y='CodeKata Score',autopct='%1.0f%%')"
      ]
    },
    {
      "cell_type": "markdown",
      "metadata": {
        "id": "qgr2y8DKxJ2r"
      },
      "source": [
        "###### Department wise toppers (horizantal bar graph or any visual representations of your choice)"
      ]
    },
    {
      "cell_type": "code",
      "execution_count": null,
      "metadata": {
        "id": "fvC-_lwbxJ2s"
      },
      "outputs": [],
      "source": [
        "#importing the modules\n",
        "import numpy as np\n",
        "import matplotlib.pyplot as plt"
      ]
    },
    {
      "cell_type": "code",
      "execution_count": null,
      "metadata": {
        "id": "AstqT0SKxJ2s"
      },
      "outputs": [],
      "source": [
        "df.groupby(['Department']).plot(kind='bar', x='Department', title='Department views', figsize= (11,6))"
      ]
    },
    {
      "cell_type": "code",
      "execution_count": null,
      "metadata": {
        "id": "SOzkS8XsxJ2t"
      },
      "outputs": [],
      "source": []
    },
    {
      "cell_type": "code",
      "execution_count": null,
      "metadata": {
        "id": "yM6s0UryxJ2t"
      },
      "outputs": [],
      "source": []
    }
  ],
  "metadata": {
    "kernelspec": {
      "display_name": "Python 3",
      "language": "python",
      "name": "python3"
    },
    "language_info": {
      "codemirror_mode": {
        "name": "ipython",
        "version": 3
      },
      "file_extension": ".py",
      "mimetype": "text/x-python",
      "name": "python",
      "nbconvert_exporter": "python",
      "pygments_lexer": "ipython3",
      "version": "3.8.3"
    },
    "colab": {
      "provenance": [],
      "include_colab_link": true
    }
  },
  "nbformat": 4,
  "nbformat_minor": 0
}